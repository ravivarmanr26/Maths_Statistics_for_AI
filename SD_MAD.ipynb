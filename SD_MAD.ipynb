{
 "cells": [
  {
   "cell_type": "code",
   "execution_count": 1,
   "id": "8cb67a8f-2a4b-4e88-8b2a-633b0be00cd0",
   "metadata": {},
   "outputs": [
    {
     "name": "stdout",
     "output_type": "stream",
     "text": [
      "Standard deviation: 7.0710678118654755\n"
     ]
    }
   ],
   "source": [
    "#Standard deviation\n",
    "# Define a list of data points\n",
    "data = [10, 15, 20, 25, 30]\n",
    "\n",
    "# Calculate the mean\n",
    "mean = sum(data) / len(data)\n",
    "\n",
    "# Calculate the squared deviations from the mean for each data point\n",
    "squared_deviations = [(x - mean)**2 for x in data]\n",
    "\n",
    "# Calculate the variance\n",
    "variance = sum(squared_deviations) / len(data)\n",
    "\n",
    "# Calculate the standard deviation (square root of variance)\n",
    "standard_deviation = variance**0.5\n",
    "\n",
    "# Print the standard deviation\n",
    "print(f\"Standard deviation: {standard_deviation}\")\n"
   ]
  },
  {
   "cell_type": "code",
   "execution_count": 2,
   "id": "2d2a1e3a-e3b8-4c3f-9fbb-62171d35bcb1",
   "metadata": {},
   "outputs": [
    {
     "name": "stdout",
     "output_type": "stream",
     "text": [
      "Mean absolute deviation: 6.0\n"
     ]
    }
   ],
   "source": [
    "#Mean Abosulate Deviation\n",
    "# Define a list of data points\n",
    "data = [10, 15, 20, 25, 30]\n",
    "\n",
    "# Calculate the mean\n",
    "mean = sum(data) / len(data)\n",
    "\n",
    "# Calculate the absolute deviations from the mean for each data point\n",
    "absolute_deviations = [abs(x - mean) for x in data]\n",
    "\n",
    "# Calculate the mean absolute deviation (MAD)\n",
    "mean_absolute_deviation = sum(absolute_deviations) / len(data)\n",
    "\n",
    "# Print the mean absolute deviation\n",
    "print(f\"Mean absolute deviation: {mean_absolute_deviation}\")\n"
   ]
  }
 ],
 "metadata": {
  "kernelspec": {
   "display_name": "Python 3 (ipykernel)",
   "language": "python",
   "name": "python3"
  },
  "language_info": {
   "codemirror_mode": {
    "name": "ipython",
    "version": 3
   },
   "file_extension": ".py",
   "mimetype": "text/x-python",
   "name": "python",
   "nbconvert_exporter": "python",
   "pygments_lexer": "ipython3",
   "version": "3.12.0"
  }
 },
 "nbformat": 4,
 "nbformat_minor": 5
}
